{
 "cells": [
  {
   "cell_type": "markdown",
   "metadata": {},
   "source": [
    "<h3>Imports</h3>"
   ]
  },
  {
   "cell_type": "code",
   "execution_count": 24,
   "metadata": {},
   "outputs": [
    {
     "ename": "ModuleNotFoundError",
     "evalue": "No module named 'pandas_profiling'",
     "output_type": "error",
     "traceback": [
      "\u001b[1;31m---------------------------------------------------------------------------\u001b[0m",
      "\u001b[1;31mModuleNotFoundError\u001b[0m                       Traceback (most recent call last)",
      "\u001b[1;32mc:\\Users\\marco\\Documents\\Mineração de dados\\Car Evaluation\\CarEvaluation.ipynb Cell 2\u001b[0m line \u001b[0;36m2\n\u001b[0;32m      <a href='vscode-notebook-cell:/c%3A/Users/marco/Documents/Minera%C3%A7%C3%A3o%20de%20dados/Car%20Evaluation/CarEvaluation.ipynb#W4sZmlsZQ%3D%3D?line=0'>1</a>\u001b[0m \u001b[39mimport\u001b[39;00m \u001b[39mpandas\u001b[39;00m \u001b[39mas\u001b[39;00m \u001b[39mpd\u001b[39;00m\n\u001b[1;32m----> <a href='vscode-notebook-cell:/c%3A/Users/marco/Documents/Minera%C3%A7%C3%A3o%20de%20dados/Car%20Evaluation/CarEvaluation.ipynb#W4sZmlsZQ%3D%3D?line=1'>2</a>\u001b[0m \u001b[39mfrom\u001b[39;00m \u001b[39mpandas_profiling\u001b[39;00m \u001b[39mimport\u001b[39;00m ProfileReport\n\u001b[0;32m      <a href='vscode-notebook-cell:/c%3A/Users/marco/Documents/Minera%C3%A7%C3%A3o%20de%20dados/Car%20Evaluation/CarEvaluation.ipynb#W4sZmlsZQ%3D%3D?line=2'>3</a>\u001b[0m \u001b[39mimport\u001b[39;00m \u001b[39mmatplotlib\u001b[39;00m\u001b[39m.\u001b[39;00m\u001b[39mpyplot\u001b[39;00m \u001b[39mas\u001b[39;00m \u001b[39mplt\u001b[39;00m\n\u001b[0;32m      <a href='vscode-notebook-cell:/c%3A/Users/marco/Documents/Minera%C3%A7%C3%A3o%20de%20dados/Car%20Evaluation/CarEvaluation.ipynb#W4sZmlsZQ%3D%3D?line=3'>4</a>\u001b[0m \u001b[39mimport\u001b[39;00m \u001b[39mseaborn\u001b[39;00m \u001b[39mas\u001b[39;00m \u001b[39msns\u001b[39;00m\n",
      "\u001b[1;31mModuleNotFoundError\u001b[0m: No module named 'pandas_profiling'"
     ]
    }
   ],
   "source": [
    "import pandas as pd\n",
    "from pandas_profiling import ProfileReport\n",
    "import matplotlib.pyplot as plt\n",
    "import seaborn as sns\n",
    "from sklearn.datasets import fetch_openml\n",
    "from sklearn.model_selection import train_test_split"
   ]
  },
  {
   "cell_type": "markdown",
   "metadata": {},
   "source": [
    "<h3>Conjunto de dados</h3>"
   ]
  },
  {
   "cell_type": "code",
   "execution_count": 20,
   "metadata": {},
   "outputs": [],
   "source": [
    "car_evaluation = fetch_openml(name=\"car\", version=3, parser='auto')\n",
    "df = pd.DataFrame(data=car_evaluation.data, columns=car_evaluation.feature_names)\n",
    "df['target'] = car_evaluation.target"
   ]
  },
  {
   "cell_type": "markdown",
   "metadata": {},
   "source": [
    "<h3>Verifica se há valores ausentes</h3>"
   ]
  },
  {
   "cell_type": "code",
   "execution_count": 21,
   "metadata": {},
   "outputs": [
    {
     "name": "stdout",
     "output_type": "stream",
     "text": [
      "Valores Ausentes: \n",
      "buying      0\n",
      "maint       0\n",
      "doors       0\n",
      "persons     0\n",
      "lug_boot    0\n",
      "safety      0\n",
      "target      0\n",
      "dtype: int64\n"
     ]
    }
   ],
   "source": [
    "print(\"Valores Ausentes: \")\n",
    "print(df.isnull().sum())"
   ]
  },
  {
   "cell_type": "code",
   "execution_count": 23,
   "metadata": {},
   "outputs": [
    {
     "data": {
      "image/png": "[encoded data removed]",
      "text/plain": [
       "<Figure size 800x600 with 1 Axes>"
      ]
     },
     "metadata": {},
     "output_type": "display_data"
    },
    {
     "data": {
      "text/plain": [
       "<Figure size 1500x1000 with 0 Axes>"
      ]
     },
     "metadata": {},
     "output_type": "display_data"
    },
    {
     "name": "stdout",
     "output_type": "stream",
     "text": [
      "Não há variáveis numéricas para calcular a matriz de correlação.\n"
     ]
    }
   ],
   "source": [
    "# Visualizações para Análise Exploratória de Dados (EDA)\n",
    "# Distribuição da Variável Alvo\n",
    "plt.figure(figsize=(8, 6))\n",
    "sns.countplot(x='target', data=df)\n",
    "plt.title('Distribuição da Variável Alvo')\n",
    "plt.show()\n",
    "\n",
    "# Distribuição de Variáveis Numéricas\n",
    "numeric_columns = df.select_dtypes(include=['float64']).columns\n",
    "for column in numeric_columns:\n",
    "    plt.figure(figsize=(8, 6))\n",
    "    sns.histplot(df[column], bins=20, kde=True)\n",
    "    plt.title(f'Distribuição de {column}')\n",
    "    plt.show()\n",
    "\n",
    "# Relação entre Variáveis Categóricas e a Variável Alvo\n",
    "plt.figure(figsize=(15, 10))\n",
    "for i, column in enumerate(df.select_dtypes(include=['object']).columns):\n",
    "    plt.subplot(2, 3, i + 1)\n",
    "    sns.countplot(x=column, hue='target', data=df)\n",
    "    plt.title(f'Relação entre {column} e a Variável Alvo')\n",
    "    plt.xticks(rotation=45)\n",
    "plt.tight_layout()\n",
    "plt.show()\n",
    "\n",
    "# Matriz de Correlação para Variáveis Numéricas\n",
    "if not df[numeric_columns].empty:\n",
    "    correlation_matrix = df[numeric_columns].corr()\n",
    "    plt.figure(figsize=(10, 8))\n",
    "    sns.heatmap(correlation_matrix, annot=True, cmap='coolwarm', fmt=\".2f\", linewidths=0.5)\n",
    "    plt.title('Matriz de Correlação')\n",
    "    plt.show()\n",
    "else:\n",
    "    print(\"Não há variáveis numéricas para calcular a matriz de correlação.\")"
   ]
  },
  {
   "cell_type": "code",
   "execution_count": null,
   "metadata": {},
   "outputs": [
    {
     "name": "stdout",
     "output_type": "stream",
     "text": [
      "\n",
      "Caracterização da Base de Dados:\n",
      "Número de Atributos: 6\n",
      "Número de Instâncias: 1728\n",
      "Número de Classes: 4\n",
      "\n",
      "Dimensões dos Conjuntos de Treinamento e Teste:\n",
      "Treinamento - X: (1209, 6), y: (1209,)\n",
      "Teste - X: (519, 6), y: (519,)\n"
     ]
    }
   ],
   "source": [
    "# Caracterização da base de dados\n",
    "num_attributes = len(df.columns) - 1  # Excluindo a coluna alvo 'target'\n",
    "num_instances = len(df)\n",
    "num_classes = len(df['target'].unique())\n",
    "\n",
    "print(\"\\nCaracterização da Base de Dados:\")\n",
    "print(f\"Número de Atributos: {num_attributes}\")\n",
    "print(f\"Número de Instâncias: {num_instances}\")\n",
    "print(f\"Número de Classes: {num_classes}\")\n",
    "\n",
    "# Divisão do conjunto de dados em treinamento e teste\n",
    "X = df.drop('target', axis=1)\n",
    "y = df['target']\n",
    "X_train, X_test, y_train, y_test = train_test_split(X, y, test_size=0.3, random_state=42)\n",
    "\n",
    "print(\"\\nDimensões dos Conjuntos de Treinamento e Teste:\")\n",
    "print(f\"Treinamento - X: {X_train.shape}, y: {y_train.shape}\")\n",
    "print(f'Teste - X: {X_test.shape}, y: {y_test.shape}')\n"
   ]
  }
 ],
 "metadata": {
  "kernelspec": {
   "display_name": "Python 3",
   "language": "python",
   "name": "python3"
  },
  "language_info": {
   "codemirror_mode": {
    "name": "ipython",
    "version": 3
   },
   "file_extension": ".py",
   "mimetype": "text/x-python",
   "name": "python",
   "nbconvert_exporter": "python",
   "pygments_lexer": "ipython3",
   "version": "3.12.0"
  }
 },
 "nbformat": 4,
 "nbformat_minor": 5
}
